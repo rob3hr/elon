{
 "cells": [
  {
   "cell_type": "code",
   "execution_count": 1,
   "metadata": {
    "collapsed": true
   },
   "outputs": [],
   "source": [
    "import pandas as pd\n",
    "import numpy as np\n"
   ]
  },
  {
   "cell_type": "code",
   "execution_count": 2,
   "metadata": {
    "collapsed": true
   },
   "outputs": [],
   "source": [
    "tweet = pd.read_csv('./elonmusk_tweets.csv')"
   ]
  },
  {
   "cell_type": "code",
   "execution_count": 3,
   "metadata": {},
   "outputs": [
    {
     "data": {
      "text/html": [
       "<div>\n",
       "<style>\n",
       "    .dataframe thead tr:only-child th {\n",
       "        text-align: right;\n",
       "    }\n",
       "\n",
       "    .dataframe thead th {\n",
       "        text-align: left;\n",
       "    }\n",
       "\n",
       "    .dataframe tbody tr th {\n",
       "        vertical-align: top;\n",
       "    }\n",
       "</style>\n",
       "<table border=\"1\" class=\"dataframe\">\n",
       "  <thead>\n",
       "    <tr style=\"text-align: right;\">\n",
       "      <th></th>\n",
       "      <th>id</th>\n",
       "      <th>created_at</th>\n",
       "      <th>text</th>\n",
       "    </tr>\n",
       "  </thead>\n",
       "  <tbody>\n",
       "    <tr>\n",
       "      <th>0</th>\n",
       "      <td>849636868052275200</td>\n",
       "      <td>2017-04-05 14:56:29</td>\n",
       "      <td>b'And so the robots spared humanity ... https:...</td>\n",
       "    </tr>\n",
       "    <tr>\n",
       "      <th>1</th>\n",
       "      <td>848988730585096192</td>\n",
       "      <td>2017-04-03 20:01:01</td>\n",
       "      <td>b\"@ForIn2020 @waltmossberg @mims @defcon_5 Exa...</td>\n",
       "    </tr>\n",
       "    <tr>\n",
       "      <th>2</th>\n",
       "      <td>848943072423497728</td>\n",
       "      <td>2017-04-03 16:59:35</td>\n",
       "      <td>b'@waltmossberg @mims @defcon_5 Et tu, Walt?'</td>\n",
       "    </tr>\n",
       "    <tr>\n",
       "      <th>3</th>\n",
       "      <td>848935705057280001</td>\n",
       "      <td>2017-04-03 16:30:19</td>\n",
       "      <td>b'Stormy weather in Shortville ...'</td>\n",
       "    </tr>\n",
       "    <tr>\n",
       "      <th>4</th>\n",
       "      <td>848416049573658624</td>\n",
       "      <td>2017-04-02 06:05:23</td>\n",
       "      <td>b\"@DaveLeeBBC @verge Coal is dying due to nat ...</td>\n",
       "    </tr>\n",
       "    <tr>\n",
       "      <th>5</th>\n",
       "      <td>848415731502923777</td>\n",
       "      <td>2017-04-02 06:04:07</td>\n",
       "      <td>b\"@Lexxxzis It's just a helicopter in helicopt...</td>\n",
       "    </tr>\n",
       "    <tr>\n",
       "      <th>6</th>\n",
       "      <td>848415356263702528</td>\n",
       "      <td>2017-04-02 06:02:38</td>\n",
       "      <td>b\"@verge It won't matter\"</td>\n",
       "    </tr>\n",
       "    <tr>\n",
       "      <th>7</th>\n",
       "      <td>848398971139629057</td>\n",
       "      <td>2017-04-02 04:57:31</td>\n",
       "      <td>b'@SuperCoolCube Pretty good'</td>\n",
       "    </tr>\n",
       "    <tr>\n",
       "      <th>8</th>\n",
       "      <td>848244577521647616</td>\n",
       "      <td>2017-04-01 18:44:01</td>\n",
       "      <td>b\"Why did we waste so much time developing sil...</td>\n",
       "    </tr>\n",
       "    <tr>\n",
       "      <th>9</th>\n",
       "      <td>848243350993895424</td>\n",
       "      <td>2017-04-01 18:39:09</td>\n",
       "      <td>b'Technology breakthrough: turns out chemtrail...</td>\n",
       "    </tr>\n",
       "    <tr>\n",
       "      <th>10</th>\n",
       "      <td>848239928043491328</td>\n",
       "      <td>2017-04-01 18:25:33</td>\n",
       "      <td>b\"RT @OpenAI: We've created the world's first ...</td>\n",
       "    </tr>\n",
       "    <tr>\n",
       "      <th>11</th>\n",
       "      <td>848239664536223745</td>\n",
       "      <td>2017-04-01 18:24:30</td>\n",
       "      <td>b'RT @ProfBrianCox: This is extremely importan...</td>\n",
       "    </tr>\n",
       "    <tr>\n",
       "      <th>12</th>\n",
       "      <td>848036043240636417</td>\n",
       "      <td>2017-04-01 04:55:23</td>\n",
       "      <td>b'@adamsbj Def P100D with Ludicrous+, although...</td>\n",
       "    </tr>\n",
       "    <tr>\n",
       "      <th>13</th>\n",
       "      <td>847958571895619584</td>\n",
       "      <td>2017-03-31 23:47:32</td>\n",
       "      <td>b'@BadAstronomer We can def bring it back like...</td>\n",
       "    </tr>\n",
       "    <tr>\n",
       "      <th>14</th>\n",
       "      <td>847890916048338946</td>\n",
       "      <td>2017-03-31 19:18:42</td>\n",
       "      <td>b'@tesla_addict @TeslaMotors Working on it'</td>\n",
       "    </tr>\n",
       "    <tr>\n",
       "      <th>15</th>\n",
       "      <td>847884776719740928</td>\n",
       "      <td>2017-03-31 18:54:18</td>\n",
       "      <td>b\"@jasonlamb Looks like it could do 20% more w...</td>\n",
       "    </tr>\n",
       "    <tr>\n",
       "      <th>16</th>\n",
       "      <td>847884413706874880</td>\n",
       "      <td>2017-03-31 18:52:51</td>\n",
       "      <td>b'@cheron A lot'</td>\n",
       "    </tr>\n",
       "    <tr>\n",
       "      <th>17</th>\n",
       "      <td>847884351375372288</td>\n",
       "      <td>2017-03-31 18:52:36</td>\n",
       "      <td>b'@Cardoso Silliest thing we can imagine! Secr...</td>\n",
       "    </tr>\n",
       "    <tr>\n",
       "      <th>18</th>\n",
       "      <td>847883435100299267</td>\n",
       "      <td>2017-03-31 18:48:58</td>\n",
       "      <td>b'@redletterdave Good point, odds go from 0% t...</td>\n",
       "    </tr>\n",
       "    <tr>\n",
       "      <th>19</th>\n",
       "      <td>847882909906341888</td>\n",
       "      <td>2017-03-31 18:46:53</td>\n",
       "      <td>b'Falcon Heavy test flight currently scheduled...</td>\n",
       "    </tr>\n",
       "  </tbody>\n",
       "</table>\n",
       "</div>"
      ],
      "text/plain": [
       "                    id           created_at  \\\n",
       "0   849636868052275200  2017-04-05 14:56:29   \n",
       "1   848988730585096192  2017-04-03 20:01:01   \n",
       "2   848943072423497728  2017-04-03 16:59:35   \n",
       "3   848935705057280001  2017-04-03 16:30:19   \n",
       "4   848416049573658624  2017-04-02 06:05:23   \n",
       "5   848415731502923777  2017-04-02 06:04:07   \n",
       "6   848415356263702528  2017-04-02 06:02:38   \n",
       "7   848398971139629057  2017-04-02 04:57:31   \n",
       "8   848244577521647616  2017-04-01 18:44:01   \n",
       "9   848243350993895424  2017-04-01 18:39:09   \n",
       "10  848239928043491328  2017-04-01 18:25:33   \n",
       "11  848239664536223745  2017-04-01 18:24:30   \n",
       "12  848036043240636417  2017-04-01 04:55:23   \n",
       "13  847958571895619584  2017-03-31 23:47:32   \n",
       "14  847890916048338946  2017-03-31 19:18:42   \n",
       "15  847884776719740928  2017-03-31 18:54:18   \n",
       "16  847884413706874880  2017-03-31 18:52:51   \n",
       "17  847884351375372288  2017-03-31 18:52:36   \n",
       "18  847883435100299267  2017-03-31 18:48:58   \n",
       "19  847882909906341888  2017-03-31 18:46:53   \n",
       "\n",
       "                                                 text  \n",
       "0   b'And so the robots spared humanity ... https:...  \n",
       "1   b\"@ForIn2020 @waltmossberg @mims @defcon_5 Exa...  \n",
       "2       b'@waltmossberg @mims @defcon_5 Et tu, Walt?'  \n",
       "3                 b'Stormy weather in Shortville ...'  \n",
       "4   b\"@DaveLeeBBC @verge Coal is dying due to nat ...  \n",
       "5   b\"@Lexxxzis It's just a helicopter in helicopt...  \n",
       "6                           b\"@verge It won't matter\"  \n",
       "7                       b'@SuperCoolCube Pretty good'  \n",
       "8   b\"Why did we waste so much time developing sil...  \n",
       "9   b'Technology breakthrough: turns out chemtrail...  \n",
       "10  b\"RT @OpenAI: We've created the world's first ...  \n",
       "11  b'RT @ProfBrianCox: This is extremely importan...  \n",
       "12  b'@adamsbj Def P100D with Ludicrous+, although...  \n",
       "13  b'@BadAstronomer We can def bring it back like...  \n",
       "14        b'@tesla_addict @TeslaMotors Working on it'  \n",
       "15  b\"@jasonlamb Looks like it could do 20% more w...  \n",
       "16                                   b'@cheron A lot'  \n",
       "17  b'@Cardoso Silliest thing we can imagine! Secr...  \n",
       "18  b'@redletterdave Good point, odds go from 0% t...  \n",
       "19  b'Falcon Heavy test flight currently scheduled...  "
      ]
     },
     "execution_count": 3,
     "metadata": {},
     "output_type": "execute_result"
    }
   ],
   "source": [
    "tweet.head(20)\n"
   ]
  },
  {
   "cell_type": "code",
   "execution_count": 4,
   "metadata": {
    "collapsed": true
   },
   "outputs": [],
   "source": [
    "tweet = tweet[['created_at', 'text']]"
   ]
  },
  {
   "cell_type": "code",
   "execution_count": 5,
   "metadata": {
    "collapsed": true
   },
   "outputs": [],
   "source": [
    "tweet['created_at']= pd.to_datetime(tweet.created_at)"
   ]
  },
  {
   "cell_type": "code",
   "execution_count": 6,
   "metadata": {},
   "outputs": [
    {
     "data": {
      "text/html": [
       "<div>\n",
       "<style>\n",
       "    .dataframe thead tr:only-child th {\n",
       "        text-align: right;\n",
       "    }\n",
       "\n",
       "    .dataframe thead th {\n",
       "        text-align: left;\n",
       "    }\n",
       "\n",
       "    .dataframe tbody tr th {\n",
       "        vertical-align: top;\n",
       "    }\n",
       "</style>\n",
       "<table border=\"1\" class=\"dataframe\">\n",
       "  <thead>\n",
       "    <tr style=\"text-align: right;\">\n",
       "      <th></th>\n",
       "      <th>created_at</th>\n",
       "      <th>text</th>\n",
       "    </tr>\n",
       "  </thead>\n",
       "  <tbody>\n",
       "    <tr>\n",
       "      <th>0</th>\n",
       "      <td>2017-04-05 14:56:29</td>\n",
       "      <td>b'And so the robots spared humanity ... https:...</td>\n",
       "    </tr>\n",
       "    <tr>\n",
       "      <th>1</th>\n",
       "      <td>2017-04-03 20:01:01</td>\n",
       "      <td>b\"@ForIn2020 @waltmossberg @mims @defcon_5 Exa...</td>\n",
       "    </tr>\n",
       "    <tr>\n",
       "      <th>2</th>\n",
       "      <td>2017-04-03 16:59:35</td>\n",
       "      <td>b'@waltmossberg @mims @defcon_5 Et tu, Walt?'</td>\n",
       "    </tr>\n",
       "    <tr>\n",
       "      <th>3</th>\n",
       "      <td>2017-04-03 16:30:19</td>\n",
       "      <td>b'Stormy weather in Shortville ...'</td>\n",
       "    </tr>\n",
       "    <tr>\n",
       "      <th>4</th>\n",
       "      <td>2017-04-02 06:05:23</td>\n",
       "      <td>b\"@DaveLeeBBC @verge Coal is dying due to nat ...</td>\n",
       "    </tr>\n",
       "  </tbody>\n",
       "</table>\n",
       "</div>"
      ],
      "text/plain": [
       "           created_at                                               text\n",
       "0 2017-04-05 14:56:29  b'And so the robots spared humanity ... https:...\n",
       "1 2017-04-03 20:01:01  b\"@ForIn2020 @waltmossberg @mims @defcon_5 Exa...\n",
       "2 2017-04-03 16:59:35      b'@waltmossberg @mims @defcon_5 Et tu, Walt?'\n",
       "3 2017-04-03 16:30:19                b'Stormy weather in Shortville ...'\n",
       "4 2017-04-02 06:05:23  b\"@DaveLeeBBC @verge Coal is dying due to nat ..."
      ]
     },
     "execution_count": 6,
     "metadata": {},
     "output_type": "execute_result"
    }
   ],
   "source": [
    "tweet.head()"
   ]
  },
  {
   "cell_type": "code",
   "execution_count": 7,
   "metadata": {},
   "outputs": [
    {
     "data": {
      "text/plain": [
       "created_at    datetime64[ns]\n",
       "text                  object\n",
       "dtype: object"
      ]
     },
     "execution_count": 7,
     "metadata": {},
     "output_type": "execute_result"
    }
   ],
   "source": [
    "tweet.dtypes\n"
   ]
  },
  {
   "cell_type": "code",
   "execution_count": 8,
   "metadata": {},
   "outputs": [
    {
     "data": {
      "text/html": [
       "<div>\n",
       "<style>\n",
       "    .dataframe thead tr:only-child th {\n",
       "        text-align: right;\n",
       "    }\n",
       "\n",
       "    .dataframe thead th {\n",
       "        text-align: left;\n",
       "    }\n",
       "\n",
       "    .dataframe tbody tr th {\n",
       "        vertical-align: top;\n",
       "    }\n",
       "</style>\n",
       "<table border=\"1\" class=\"dataframe\">\n",
       "  <thead>\n",
       "    <tr style=\"text-align: right;\">\n",
       "      <th></th>\n",
       "      <th>created_at</th>\n",
       "      <th>text</th>\n",
       "    </tr>\n",
       "  </thead>\n",
       "  <tbody>\n",
       "    <tr>\n",
       "      <th>2814</th>\n",
       "      <td>2011-12-03 08:22:07</td>\n",
       "      <td>b'That was a total non sequitur btw'</td>\n",
       "    </tr>\n",
       "    <tr>\n",
       "      <th>2815</th>\n",
       "      <td>2011-12-03 08:20:28</td>\n",
       "      <td>b'Great Voltaire quote, arguably better than T...</td>\n",
       "    </tr>\n",
       "    <tr>\n",
       "      <th>2816</th>\n",
       "      <td>2011-12-01 10:29:04</td>\n",
       "      <td>b'I made the volume on the Model S http://t.co...</td>\n",
       "    </tr>\n",
       "    <tr>\n",
       "      <th>2817</th>\n",
       "      <td>2011-12-01 09:55:11</td>\n",
       "      <td>b\"Went to Iceland on Sat to ride bumper cars o...</td>\n",
       "    </tr>\n",
       "    <tr>\n",
       "      <th>2818</th>\n",
       "      <td>2010-06-04 18:31:57</td>\n",
       "      <td>b'Please ignore prior tweets, as that was some...</td>\n",
       "    </tr>\n",
       "  </tbody>\n",
       "</table>\n",
       "</div>"
      ],
      "text/plain": [
       "              created_at                                               text\n",
       "2814 2011-12-03 08:22:07               b'That was a total non sequitur btw'\n",
       "2815 2011-12-03 08:20:28  b'Great Voltaire quote, arguably better than T...\n",
       "2816 2011-12-01 10:29:04  b'I made the volume on the Model S http://t.co...\n",
       "2817 2011-12-01 09:55:11  b\"Went to Iceland on Sat to ride bumper cars o...\n",
       "2818 2010-06-04 18:31:57  b'Please ignore prior tweets, as that was some..."
      ]
     },
     "execution_count": 8,
     "metadata": {},
     "output_type": "execute_result"
    }
   ],
   "source": [
    "tweet.tail()"
   ]
  },
  {
   "cell_type": "markdown",
   "metadata": {},
   "source": [
    "# Webscraping part"
   ]
  },
  {
   "cell_type": "code",
   "execution_count": 9,
   "metadata": {
    "collapsed": true
   },
   "outputs": [],
   "source": [
    "import bs4\n",
    "from bs4 import BeautifulSoup\n",
    "import urllib\n",
    "from urllib import urlopen\n",
    "import requests\n",
    "import time\n",
    "import pandas as pd"
   ]
  },
  {
   "cell_type": "markdown",
   "metadata": {},
   "source": [
    "## bigcharts marketplace"
   ]
  },
  {
   "cell_type": "code",
   "execution_count": 10,
   "metadata": {
    "collapsed": true
   },
   "outputs": [],
   "source": [
    "URL = \"http://bigcharts.marketwatch.com/news/symbolsearch/symbolnews.asp?symb=TSLA\"\n"
   ]
  },
  {
   "cell_type": "code",
   "execution_count": 11,
   "metadata": {
    "collapsed": true
   },
   "outputs": [],
   "source": [
    "html = urllib.urlopen(URL).read()\n",
    "\n",
    "soup = BeautifulSoup(html, 'html.parser', from_encoding=\"utf-8\")"
   ]
  },
  {
   "cell_type": "code",
   "execution_count": 12,
   "metadata": {
    "collapsed": true
   },
   "outputs": [],
   "source": [
    "news = pd.DataFrame(columns=[\"title\",\"date\", \"time\",\"news_site\"])"
   ]
  },
  {
   "cell_type": "code",
   "execution_count": 13,
   "metadata": {
    "collapsed": true
   },
   "outputs": [],
   "source": [
    "# def scrap():\n",
    "#     for row in soup.find_all('ol', {'class':'headlines'}):\n",
    "        \n",
    "#         classes= row.find_all('li', {'class':'shaded'}) \n",
    "#         for entry in classes:\n",
    "#             title =entry.find('',attrs= {\"class\":\"fleft headline\"}).get_text()\n",
    "#             date = entry.find('li',attrs= {\"class\":\"date\"}).get_text()\n",
    "#             time = entry.find('p', attrs= {\"class\": \"fright understated\"}).get_text()\n",
    "#             news_site = entry.find('span', attrs= {\"class\": \"provider\"}).get_text()\n",
    "#             #try:\n",
    "#                 #company = entry.find('span', attrs = {\"class\":\"company\"}).get_text()\n",
    "#             #except:\n",
    "#                 #company = 'NA'\n",
    "#             #try:\n",
    "#                 #salary = entry.find('nobr').get_text()\n",
    "#             #except:\n",
    "#                 #salary = 'NA'\n",
    "#             news.loc[len(news)]=[title.strip(), date.strip(), time.strip(), news_site.strip()]"
   ]
  },
  {
   "cell_type": "code",
   "execution_count": 14,
   "metadata": {
    "collapsed": true
   },
   "outputs": [],
   "source": [
    "def scrap():\n",
    "    for row in soup.find_all('ol', {'class':'headlines'}):\n",
    "        classes= row.find_all('li', {'class':'date'})\n",
    "        for entry in classes:\n",
    "            date = entry.find('p')\n",
    "            second= row.find_all('li', {'class':'shaded'}) \n",
    "            for fi in second:\n",
    "                title =entry.find('p',attrs= {\"class\":\"fleft headline\"}).get_text()\n",
    "                time = entry.find('p', attrs= {\"class\": \"fright understated\"}).get_text()\n",
    "                news_site = entry.find('span', attrs= {\"class\": \"provider\"}).get_text()\n",
    "                news.loc[len(news)]=[title.strip(), date.strip(), time.strip(), news_site.strip()]"
   ]
  },
  {
   "cell_type": "code",
   "execution_count": 15,
   "metadata": {
    "collapsed": true
   },
   "outputs": [],
   "source": [
    "# for row in soup.find_all('ol', {'class':'headlines'}):\n",
    "#         classes= row.find_all('li', {'class':'date'}) \n",
    "#         for entry in classes:\n",
    "#             date = entry.find('p')"
   ]
  },
  {
   "cell_type": "markdown",
   "metadata": {},
   "source": [
    "## Tesla Blog"
   ]
  },
  {
   "cell_type": "code",
   "execution_count": 17,
   "metadata": {
    "collapsed": true
   },
   "outputs": [],
   "source": [
    "URL = \"https://www.tesla.com/blog\""
   ]
  },
  {
   "cell_type": "code",
   "execution_count": 18,
   "metadata": {
    "collapsed": true
   },
   "outputs": [],
   "source": [
    "html = urllib.urlopen(URL).read()\n",
    "\n",
    "soup = BeautifulSoup(html, 'html.parser', from_encoding=\"utf-8\")"
   ]
  },
  {
   "cell_type": "code",
   "execution_count": 107,
   "metadata": {
    "collapsed": true
   },
   "outputs": [],
   "source": [
    "dataframe = pd.DataFrame(columns=[\"title\",\"date\", \"author\",\"first_paragraph\"])"
   ]
  },
  {
   "cell_type": "code",
   "execution_count": 43,
   "metadata": {
    "collapsed": true
   },
   "outputs": [],
   "source": [
    "### trying to get this to work, currently not. need to troubleshoot\n",
    "def scrap():\n",
    "    for row in soup.find_all('div', {'class':'view-content'}):\n",
    "        classes= row.find_all('div', {'class':'blog-wrapper no-image'})\n",
    "        for entry in classes:\n",
    "            title = entry.find('h2').get_text()\n",
    "            date = entry.find('span', attrs= {\"property\":\"dc:date dc:created\"}).get_text()\n",
    "            author = entry.find('div', attrs= {\"class\": \"post-info\"}).get_text()\n",
    "            first_paragraph = entry.find('div', attrs= {\"class\": \"field-item even\"}).get_text()\n",
    "            return author\n",
    "            #dataframe.loc[len(dateframe)]=[title.strip(), date.strip(), author.strip(), first_paragraph.strip()] "
   ]
  },
  {
   "cell_type": "code",
   "execution_count": 44,
   "metadata": {},
   "outputs": [
    {
     "data": {
      "text/plain": [
       "u'\\n        The Tesla Team                    July 17, 2017\\n'"
      ]
     },
     "execution_count": 44,
     "metadata": {},
     "output_type": "execute_result"
    }
   ],
   "source": [
    "scrap()"
   ]
  },
  {
   "cell_type": "code",
   "execution_count": 30,
   "metadata": {},
   "outputs": [
    {
     "ename": "NameError",
     "evalue": "name 'date' is not defined",
     "output_type": "error",
     "traceback": [
      "\u001b[0;31m---------------------------------------------------------------------------\u001b[0m",
      "\u001b[0;31mNameError\u001b[0m                                 Traceback (most recent call last)",
      "\u001b[0;32m<ipython-input-30-b8481352437a>\u001b[0m in \u001b[0;36m<module>\u001b[0;34m()\u001b[0m\n\u001b[0;32m----> 1\u001b[0;31m \u001b[0mdate\u001b[0m\u001b[0;34m\u001b[0m\u001b[0m\n\u001b[0m\u001b[1;32m      2\u001b[0m \u001b[0;31m#not the date for the tesla blog. I am assuming I am just tagging the wrong things\u001b[0m\u001b[0;34m\u001b[0m\u001b[0;34m\u001b[0m\u001b[0m\n",
      "\u001b[0;31mNameError\u001b[0m: name 'date' is not defined"
     ]
    }
   ],
   "source": [
    "date\n",
    "#not the date for the tesla blog. I am assuming I am just tagging the wrong things"
   ]
  },
  {
   "cell_type": "code",
   "execution_count": null,
   "metadata": {
    "collapsed": true
   },
   "outputs": [],
   "source": []
  },
  {
   "cell_type": "code",
   "execution_count": null,
   "metadata": {
    "collapsed": true
   },
   "outputs": [],
   "source": []
  },
  {
   "cell_type": "code",
   "execution_count": null,
   "metadata": {
    "collapsed": true
   },
   "outputs": [],
   "source": []
  },
  {
   "cell_type": "code",
   "execution_count": null,
   "metadata": {
    "collapsed": true
   },
   "outputs": [],
   "source": []
  },
  {
   "cell_type": "code",
   "execution_count": null,
   "metadata": {
    "collapsed": true
   },
   "outputs": [],
   "source": []
  },
  {
   "cell_type": "code",
   "execution_count": null,
   "metadata": {
    "collapsed": true
   },
   "outputs": [],
   "source": []
  },
  {
   "cell_type": "code",
   "execution_count": null,
   "metadata": {
    "collapsed": true
   },
   "outputs": [],
   "source": []
  }
 ],
 "metadata": {
  "kernelspec": {
   "display_name": "Python 2",
   "language": "python",
   "name": "python2"
  },
  "language_info": {
   "codemirror_mode": {
    "name": "ipython",
    "version": 2
   },
   "file_extension": ".py",
   "mimetype": "text/x-python",
   "name": "python",
   "nbconvert_exporter": "python",
   "pygments_lexer": "ipython2",
   "version": "2.7.13"
  }
 },
 "nbformat": 4,
 "nbformat_minor": 2
}
